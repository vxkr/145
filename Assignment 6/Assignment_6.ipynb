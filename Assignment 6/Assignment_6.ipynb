{
  "nbformat": 4,
  "nbformat_minor": 0,
  "metadata": {
    "colab": {
      "name": "Assignment_6.ipynb",
      "provenance": [],
      "collapsed_sections": [],
      "toc_visible": true
    },
    "kernelspec": {
      "display_name": "Python 3",
      "language": "python",
      "name": "python3"
    },
    "language_info": {
      "codemirror_mode": {
        "name": "ipython",
        "version": 3
      },
      "file_extension": ".py",
      "mimetype": "text/x-python",
      "name": "python",
      "nbconvert_exporter": "python",
      "pygments_lexer": "ipython3",
      "version": "3.7.4"
    }
  },
  "cells": [
    {
      "cell_type": "markdown",
      "metadata": {
        "colab_type": "text",
        "id": "lOOQFzaLGfDj"
      },
      "source": [
        "# Assignment 6: Neural Networks"
      ]
    },
    {
      "cell_type": "markdown",
      "metadata": {
        "colab_type": "text",
        "id": "VfF9hXD8rHCj"
      },
      "source": [
        "\n",
        "## 1. Backpropagation - Essentials\n",
        "\n",
        "As you examined in class, a simple layer in a feedforward neural network can be expressed as the following:\n",
        "\n",
        "$$h = Wx + b$$\n",
        "\n",
        "$$t = \\sigma(h)$$\n",
        "\n",
        "$$\\mathcal{L} = \\frac{1}{2}(y - t)^2$$\n",
        "\n",
        "where $x$ is the input, $W$ is the weight matrix at this node, $b$ is the bias added at the node, $\\sigma(\\cdot)$ is the activation function, $y$ is the label, and $\\mathcal{L}$ is the loss.\n",
        "\n",
        "The activation function and the loss function (squared loss used here) are choices made when creating a neural network. "
      ]
    },
    {
      "cell_type": "markdown",
      "metadata": {
        "colab_type": "text",
        "id": "cZCyQV7cq8QC"
      },
      "source": [
        "\n",
        "### a. What are the unknowns in the problem?\n",
        "\n",
        "TODO:\n"
      ]
    },
    {
      "cell_type": "markdown",
      "metadata": {
        "colab_type": "text",
        "id": "zmhZZB-MrJm2"
      },
      "source": [
        "### b. What do we want minimize?\n",
        "\n",
        "TODO:"
      ]
    },
    {
      "cell_type": "markdown",
      "metadata": {
        "colab_type": "text",
        "id": "4puUavw0rJpi"
      },
      "source": [
        "### c. What method could we use to find the unknowns?\n",
        "\n",
        "TODO:"
      ]
    },
    {
      "cell_type": "markdown",
      "metadata": {
        "colab_type": "text",
        "id": "KQqGliGnrJsc"
      },
      "source": [
        "### d. Find the partial derivatives of L with respect to the unknowns. \n",
        "\n",
        "Assume we use ReLU for the activation function.\n",
        "\n",
        "TODO:"
      ]
    },
    {
      "cell_type": "markdown",
      "metadata": {
        "colab_type": "text",
        "id": "O-CJNg0ULjhz"
      },
      "source": [
        "## 2. Backpropogation\n",
        "\n",
        "A neural network is regarded as compositional, in that the output of one layer feeds in as the input to the next layer. Using the the same notation as above but ignoring the bias $b$ for simplicity:\n",
        "\n",
        "$$t = \\sigma_L(W_L \\sigma_{L-1}(...\\sigma_2(W_2 \\sigma_1(W_1x))...))$$\n",
        "\n",
        "Here $x$ is the original input data, and $t$ is the output of the neural network.\n",
        "\n",
        "Even more simply, we can look at each layer L:\n",
        "\n",
        "$$N_1\\rightarrow N_2\\rightarrow N_3\\rightarrow ... N_{L-1}\\rightarrow N_L $$\n",
        "\n",
        "The idea here is the same - we will need to solve for partial derivatives for each layer to set the unknowns. As the previous layer feeds into the next, you can only solve for a Jacobian (vector of partials) one wrt one layer down e.g. we can first solve for\n",
        "\n",
        "$$ J_{N_L} (N_{L-1})$$\n",
        "\n",
        "the Jacobian of $N_L$ with respect to $N_{L-1}$"
      ]
    },
    {
      "cell_type": "markdown",
      "metadata": {
        "colab_type": "text",
        "id": "INe3vqUxq4pX"
      },
      "source": [
        "### a. For the above simple representation, write out the Jacobian of the the final layer with respect to the first layer.\n",
        "\n",
        "TODO:"
      ]
    },
    {
      "cell_type": "markdown",
      "metadata": {
        "colab_type": "text",
        "id": "Ob64ZbCArSM_"
      },
      "source": [
        "### b. Based on the equation you've described above, explain using time or space complexity why the best way to solve for the gradient in 2a. is to work backwards.\n",
        "\n",
        "TODO:"
      ]
    },
    {
      "cell_type": "markdown",
      "metadata": {
        "colab_type": "text",
        "id": "AUTKSiDD8SAs"
      },
      "source": [
        "## 3. Simple Neural Network\n",
        "\n",
        "Here you'll try out writing a neural network for a simple classification problem. For full credit, the final test accuracy should be above 0.6.\n",
        "\n",
        "The dataset is of cell images from thin blood smear slides of segmented cells, with labels indicating the presence of malaria.\n",
        "\n",
        "Source: https://lhncbc.nlm.nih.gov/publication/pub9932\n",
        "\n",
        "Paper: https://www.ncbi.nlm.nih.gov/pmc/articles/PMC6544011/\n",
        "\n",
        "Some setup to start with:"
      ]
    },
    {
      "cell_type": "code",
      "metadata": {
        "colab_type": "code",
        "id": "zs4mXkqFLil8",
        "colab": {}
      },
      "source": [
        "import numpy as np\n",
        "import matplotlib.pyplot as plt\n",
        "import tensorflow as tf\n",
        "import cv2\n",
        "from tensorflow import keras\n",
        "import tensorflow_datasets as tfds"
      ],
      "execution_count": 0,
      "outputs": []
    },
    {
      "cell_type": "code",
      "metadata": {
        "colab_type": "code",
        "id": "uq7I0wsXBTIp",
        "colab": {}
      },
      "source": [
        "# comment out following line if tf.__version__ > 1.x\n",
        "tf.enable_eager_execution()"
      ],
      "execution_count": 0,
      "outputs": []
    },
    {
      "cell_type": "code",
      "metadata": {
        "colab_type": "code",
        "id": "HzzpqV3R8znJ",
        "colab": {}
      },
      "source": [
        "malaria, info = tfds.load(name=\"malaria\", split=\"train\", with_info=True)\n",
        "malaria = malaria.shuffle(30000).prefetch(tf.data.experimental.AUTOTUNE)\n",
        "info"
      ],
      "execution_count": 0,
      "outputs": []
    },
    {
      "cell_type": "code",
      "metadata": {
        "id": "7IiQCcEB5PB3",
        "colab_type": "code",
        "colab": {}
      },
      "source": [
        "info"
      ],
      "execution_count": 0,
      "outputs": []
    },
    {
      "cell_type": "code",
      "metadata": {
        "colab_type": "code",
        "id": "OmwQyvP1ZVbY",
        "colab": {}
      },
      "source": [
        "# Visualize some images\n",
        "plt.figure(figsize=(12,12))\n",
        "\n",
        "for i, feature in enumerate(malaria.take(4)):\n",
        "    image = feature[\"image\"].numpy()\n",
        "    label = feature[\"label\"].numpy()\n",
        "    \n",
        "    plt.subplot(2, 2, i+1)\n",
        "    plt.title(\"Label: \"+str(label))\n",
        "    plt.imshow(image)\n",
        "    # i+=1\n",
        "plt.show()"
      ],
      "execution_count": 0,
      "outputs": []
    },
    {
      "cell_type": "markdown",
      "metadata": {
        "colab_type": "text",
        "id": "i0WZhx66eFRc"
      },
      "source": [
        "### a. Extract some samples from the malaria dataset\n",
        "\n",
        "Hints:\n",
        "\n",
        "* Keep the total number of samples small ( < 10000) - it largely depends on your memory (if your notebook starts to crash, reduce the number of samples and try again)\n",
        "* The dimension of each image is height \\* width \\* 3, with the 3 representing the number of channels \n",
        "* The height and width of the images aren't all the same, so resize all of them to be 133 by 133 (see [cv2.resize](https://medium.com/@manivannan_data/resize-image-using-opencv-python-d2cdbbc480f0))\n",
        "* The possibles labels are 0s and 1s (scalars)\n",
        "* Split into a training and testing set (a split like 80:20 train to test is reasonable)\n"
      ]
    },
    {
      "cell_type": "code",
      "metadata": {
        "colab_type": "code",
        "id": "nDuTcN2eRqEN",
        "colab": {}
      },
      "source": [
        "# TODO: Initialize to the correct shapes with zeros\n",
        "train_images = ...\n",
        "train_labels = ...\n",
        "test_images = ...\n",
        "test_labels = ...\n",
        "\n",
        "# TODO: Fill in the splits above\n",
        "total_sample_size = ...\n",
        "for i, feature in enumerate(malaria.take(total_sample_size)):\n",
        "\n",
        "    ..."
      ],
      "execution_count": 0,
      "outputs": []
    },
    {
      "cell_type": "markdown",
      "metadata": {
        "colab_type": "text",
        "id": "Skfa7gabhx5b"
      },
      "source": [
        "### b. Add some layers to the model\n",
        "\n",
        "Hints:\n",
        "\n",
        "*   See examples of layers in the Keras documentation: https://keras.io/layers/core/\n",
        "*   For the first layer, provide an input_shape, which refers to the shape of an image from your dataset\n",
        "\n",
        "See examples at https://www.tensorflow.org/tutorials\n",
        "\n"
      ]
    },
    {
      "cell_type": "code",
      "metadata": {
        "colab_type": "code",
        "id": "h17G-glzL1CC",
        "colab": {}
      },
      "source": [
        "model = keras.Sequential()\n",
        "# TODO:\n",
        "model.add(...)"
      ],
      "execution_count": 0,
      "outputs": []
    },
    {
      "cell_type": "markdown",
      "metadata": {
        "colab_type": "text",
        "id": "mTAuV-yclMMV"
      },
      "source": [
        "### c. Choose how to train the above model\n",
        "\n",
        "Pick an optimizer, loss function, and metric. If you choose something not covered in class, give a brief explanation and an advantage of your choice.\n",
        "\n",
        "*   Optimizers: https://keras.io/optimizers/\n",
        "*   Losses: https://keras.io/losses/\n",
        "*   Metrics: https://keras.io/metrics/\n",
        "\n",
        "### Reasoning:\n",
        "\n",
        "TODO:\n"
      ]
    },
    {
      "cell_type": "code",
      "metadata": {
        "colab_type": "code",
        "id": "hpNocMjLlMaj",
        "colab": {}
      },
      "source": [
        "# TODO:\n",
        "opt = ...\n",
        "loss_func = ...\n",
        "metric = [\"...\"] "
      ],
      "execution_count": 0,
      "outputs": []
    },
    {
      "cell_type": "code",
      "metadata": {
        "colab_type": "code",
        "id": "11W_u7LUQ5dy",
        "colab": {}
      },
      "source": [
        "model.compile(optimizer=opt,\n",
        "              loss=loss_func,\n",
        "              metrics=metric)"
      ],
      "execution_count": 0,
      "outputs": []
    },
    {
      "cell_type": "markdown",
      "metadata": {
        "colab_type": "text",
        "id": "-fugsI4Um2id"
      },
      "source": [
        "### d. Train the model\n",
        "\n",
        "Choose an appropriate number of epochs (Hint: try some different values)"
      ]
    },
    {
      "cell_type": "code",
      "metadata": {
        "colab_type": "code",
        "id": "7Bx1MyQeS1t4",
        "colab": {}
      },
      "source": [
        "# TODO:\n",
        "num_epochs = ...\n",
        "\n",
        "model.fit(train_images, train_labels, epochs=num_epochs)"
      ],
      "execution_count": 0,
      "outputs": []
    },
    {
      "cell_type": "markdown",
      "metadata": {
        "colab_type": "text",
        "id": "N90CFDZro1h8"
      },
      "source": [
        "### e. Evaluate based on the testing set\n",
        "\n",
        "Must be greater that 0.55 for full credit"
      ]
    },
    {
      "cell_type": "code",
      "metadata": {
        "colab_type": "code",
        "id": "1gBWoFo-TQb6",
        "colab": {}
      },
      "source": [
        "test_loss, test_acc = model.evaluate(test_images,  test_labels, verbose=2)\n",
        "\n",
        "print('\\nTest accuracy:', test_acc)"
      ],
      "execution_count": 0,
      "outputs": []
    },
    {
      "cell_type": "markdown",
      "metadata": {
        "colab_type": "text",
        "id": "yOEvDCH9pF1l"
      },
      "source": [
        "### f. Based on the above accuracies between the testing and training sets, did you overfit while training?\n",
        "\n",
        "TODO:"
      ]
    },
    {
      "cell_type": "markdown",
      "metadata": {
        "colab_type": "text",
        "id": "ae1IXzi7qE_O"
      },
      "source": [
        "\n",
        "### g. (Extra Credit) Improve your model to achieve an accuracy of greater than 0.70 on the testing set."
      ]
    }
  ]
}