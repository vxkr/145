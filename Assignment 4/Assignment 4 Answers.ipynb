{
  "nbformat": 4,
  "nbformat_minor": 0,
  "metadata": {
    "kernelspec": {
      "display_name": "Python 3",
      "language": "python",
      "name": "python3"
    },
    "language_info": {
      "codemirror_mode": {
        "name": "ipython",
        "version": 3
      },
      "file_extension": ".py",
      "mimetype": "text/x-python",
      "name": "python",
      "nbconvert_exporter": "python",
      "pygments_lexer": "ipython3",
      "version": "3.5.2"
    },
    "colab": {
      "name": "Assignment 4 Answers.ipynb",
      "provenance": [],
      "collapsed_sections": []
    }
  },
  "cells": [
    {
      "cell_type": "markdown",
      "metadata": {
        "id": "oZfDQFvHiJ3K",
        "colab_type": "text"
      },
      "source": [
        "# Assignment 4: Clustering and PCA"
      ]
    },
    {
      "cell_type": "code",
      "metadata": {
        "id": "c_gXgvuaiJ3O",
        "colab_type": "code",
        "colab": {}
      },
      "source": [
        "# imports\n",
        "import numpy as np\n",
        "import matplotlib.pyplot as plt\n",
        "import pandas as pd"
      ],
      "execution_count": 0,
      "outputs": []
    },
    {
      "cell_type": "markdown",
      "metadata": {
        "id": "AwGc5HloiJ3V",
        "colab_type": "text"
      },
      "source": [
        "## Part 1: Parsing data\n",
        "\n",
        "You’re given a dataset of gene expression for 20 samples that might represent different biological situations. \n",
        "\n",
        "- Read in the data as a matrix of n rows (number of samples) by m (number of genes measured for each sample). **Each sample (row) is a data point, and each gene (column) is a feature**.\n",
        "\n",
        "- Normalize the data: calculate the mean expression for each gene, and rescale each individual measurement relative to that mean (giving the fold change relative to the mean). \n",
        "\n",
        "- Then, log_2 transform the data.\n",
        "\n",
        "- Subtract mean from data matrix (zero-mean each column)"
      ]
    },
    {
      "cell_type": "code",
      "metadata": {
        "id": "5yPX1jW-ieSm",
        "colab_type": "code",
        "outputId": "ef8e5b27-8b42-41e2-cbcf-7c1ca87427db",
        "colab": {
          "base_uri": "https://localhost:8080/",
          "height": 247
        }
      },
      "source": [
        "# read in\n",
        "gene_expr = pd.read_csv('gene_expression.csv', header=0, index_col=0).to_numpy()\n",
        "\n",
        "# rescale with mean\n",
        "gene_expr = np.divide(gene_expr, np.mean(gene_expr, axis=0))\n",
        "\n",
        "# log_2 transform\n",
        "gene_expr = np.log2(gene_expr)\n",
        "\n",
        "# zero-mean\n",
        "gene_expr -= np.mean(gene_expr, axis = 0)\n",
        "\n",
        "gene_expr"
      ],
      "execution_count": 130,
      "outputs": [
        {
          "output_type": "execute_result",
          "data": {
            "text/plain": [
              "array([[-2.34999555,  0.99011414,  1.77535796, ...,  1.22944536,\n",
              "        -1.82090512, -1.02564461],\n",
              "       [ 2.02346285, -1.2224305 , -2.13609091, ..., -1.13978845,\n",
              "         1.6385265 ,  0.50397486],\n",
              "       [ 2.21294065, -1.17734261, -2.73943194, ..., -0.91739603,\n",
              "         1.68159522,  0.54372103],\n",
              "       ...,\n",
              "       [-2.10898745,  0.72510208,  1.68327977, ...,  0.91910524,\n",
              "        -1.40586762, -0.77489363],\n",
              "       [ 1.68242593, -1.11224758, -2.07354945, ..., -0.91739603,\n",
              "         1.68159522,  0.66290508],\n",
              "       [ 0.43850035,  0.17532901,  0.3969677 , ..., -0.02431123,\n",
              "         0.17909488,  0.50830821]])"
            ]
          },
          "metadata": {
            "tags": []
          },
          "execution_count": 130
        }
      ]
    },
    {
      "cell_type": "markdown",
      "metadata": {
        "id": "zfGtPNeAiJ3X",
        "colab_type": "text"
      },
      "source": [
        "## Part 2: PCA\n",
        "We want to be able to distill the most important aspects, both for the purposes of visualization and de-noising. It may be the case that only the *d* most important axes of variation contribute significantly to our understanding of the data."
      ]
    },
    {
      "cell_type": "markdown",
      "metadata": {
        "id": "j03d5H4EiJ3Z",
        "colab_type": "text"
      },
      "source": [
        "### 2.1: Plot the singular values of the matrix\n",
        "In the cell below, create a chart comparing the singular values of the data matrix. Your x-axis should range from 1 to *m* (total dimension of the vector space), and your y-axis should plot the singular values in order from greatest to least. Feel free to use `np.linalg.svd`."
      ]
    },
    {
      "cell_type": "code",
      "metadata": {
        "id": "hv-6S6UFiJ3b",
        "colab_type": "code",
        "outputId": "a9e8af5c-3e6f-4868-adbc-c5f06bbc7df8",
        "colab": {
          "base_uri": "https://localhost:8080/",
          "height": 281
        }
      },
      "source": [
        "# run svd\n",
        "u, s, vh = np.linalg.svd(gene_expr)\n",
        "\n",
        "#plot\n",
        "plt.scatter(np.arange(0,20), s)\n",
        "plt.xlim((-1,21))\n",
        "plt.title(\"Singular Values\")\n",
        "plt.show()"
      ],
      "execution_count": 133,
      "outputs": [
        {
          "output_type": "display_data",
          "data": {
            "image/png": "[encoded data removed]",
            "text/plain": [
              "<Figure size 432x288 with 1 Axes>"
            ]
          },
          "metadata": {
            "tags": []
          }
        }
      ]
    },
    {
      "cell_type": "markdown",
      "metadata": {
        "id": "QkKvCnpGiJ3h",
        "colab_type": "text"
      },
      "source": [
        "### 2.2 Choosing *d*:\n",
        "Based on the values you plotted, what should we set *d* to be for our purposes? Where's the cutoff in your judgement for the small set of useful features?\n",
        "\n"
      ]
    },
    {
      "cell_type": "code",
      "metadata": {
        "id": "tRliAYtciJ3j",
        "colab_type": "code",
        "colab": {}
      },
      "source": [
        "d = 2"
      ],
      "execution_count": 0,
      "outputs": []
    },
    {
      "cell_type": "markdown",
      "metadata": {
        "id": "6EQfAP7yiJ3o",
        "colab_type": "text"
      },
      "source": [
        "### 2.3: PCA Derivation/Motivation\n",
        "**Please scan and attach your written work to the submission pdf.**\n",
        "\n",
        "Let us assume that our data is drawn from a multivariate Gaussian distribution. Suppose we compute the singular value decomposition of our data matrix to be $X = U\\Sigma V^{\\intercal}$.\n",
        "\n",
        "1) What are the major properties of the matrices $U$, $V$ and $\\Sigma$? (Describe them like, $U$ is a \\_\\_\\_\\_ matrix)\n",
        "\n",
        "Answer:\n",
        "\n",
        "- $U$ and $V$ are orthogonal matrices, $\\Sigma$ is a diagonal matrix\n",
        "\n",
        "2) What is $X^\\intercal X$ in terms of $U$, $V$ and $\\Sigma$? Make sure you simplify based on the properties you described in part 1. As a hint, your answer should be a product of three terms.\n",
        "\n",
        "Answer:\n",
        "\n",
        "- $X^TX = V\\Sigma^2V^T$\n",
        "\n",
        "3) We know that $$\\frac{1}{n} X^\\intercal X$$ is the sample covariance matrix if we assume that each $X_i$ is drawn from a Gaussian distribution. This means it describes the joint variance of the features. Given this Gaussian, how may we construct a *d* dimensional basis to project our data? In other words, which vectors from $U$, $V$, etc do we take to be our projection basis? Hint: These vectors represent the directions with the greatest variance.\n",
        "\n",
        "(Note 1: we're trying to pick a vector basis with the highest variance because it will give us the most predictive power. Imagine trying to project to a basis where every data point gets projected to a similar or low-varying area. How are you going to classify anything? High variance ensures points are likely to be spread apart and thus more easily classified or clustered into distinct categories.)\n",
        "\n",
        "(Note 2: additionally, because our basis is orthonormal, we gain the advantage that the features we pick don't \"interfere\" with each other, and \"describe\" distinct aspects of the data.)\n",
        "\n",
        "Answer:\n",
        "\n",
        "- Take the first d vectors from $V$\n"
      ]
    },
    {
      "cell_type": "markdown",
      "metadata": {
        "id": "FOX3fUGRiJ3r",
        "colab_type": "text"
      },
      "source": [
        "### 2.4: Collect Basis Vectors\n",
        "Based on your answer to question 4, collect a basis of vectors that you will be projecting the data onto. The basis should be of length *d* (decided upon in section 2.2)."
      ]
    },
    {
      "cell_type": "code",
      "metadata": {
        "id": "Ju1agvOTiJ3s",
        "colab_type": "code",
        "colab": {}
      },
      "source": [
        "# first d vectors from v\n",
        "basis = vh[:d]"
      ],
      "execution_count": 0,
      "outputs": []
    },
    {
      "cell_type": "markdown",
      "metadata": {
        "id": "u9nh2bpKiJ3z",
        "colab_type": "text"
      },
      "source": [
        "## Part 3: Projection"
      ]
    },
    {
      "cell_type": "markdown",
      "metadata": {
        "id": "J4o_rWVFiJ30",
        "colab_type": "text"
      },
      "source": [
        "### 3.1: Projection function\n",
        "Please fill in the function below, which projects a given vector and sends it to the space described by the input basis. Because the basis we're going to be using is orthonormal, we can use the formula described at https://home.apu.edu/~smccathern/PastCourses/F12/LinearAlgebra/LA5_1handout.pdf (Theorem 7)"
      ]
    },
    {
      "cell_type": "code",
      "metadata": {
        "id": "LVKfXSRxiJ32",
        "colab_type": "code",
        "colab": {}
      },
      "source": [
        "def project(v, basis):\n",
        "    \"\"\"Takes a vector v and projects it into the space spanned by basis.\n",
        "    \n",
        "    Args:\n",
        "        v: data vector (1-D numpy array)\n",
        "        basis: an _orthonormal_ basis of vectors\n",
        "        \n",
        "    Returns:\n",
        "        a 1-D numpy array, the projected vector\n",
        "    \"\"\"\n",
        "    return np.matmul(v, np.transpose(basis))"
      ],
      "execution_count": 0,
      "outputs": []
    },
    {
      "cell_type": "markdown",
      "metadata": {
        "id": "a-nTaiDhiJ35",
        "colab_type": "text"
      },
      "source": [
        "### 3.2: Project & Plot\n",
        "We've chosen the dimension of our projection. We've chosen the vectors that will give us the most descriptive projection subspace. Now we just need to project our data and plot it.\n",
        "\n",
        "Please use the function in 3.1 and create a scatterplot of your projected data."
      ]
    },
    {
      "cell_type": "code",
      "metadata": {
        "id": "vnEbjwkKiJ36",
        "colab_type": "code",
        "outputId": "c0e70f88-0604-43ed-c8b5-a888be639f45",
        "colab": {
          "base_uri": "https://localhost:8080/",
          "height": 264
        }
      },
      "source": [
        "gene_transform = project(gene_expr, basis)\n",
        "plt.scatter(gene_transform[:,0], gene_transform[:,1])\n",
        "plt.show()"
      ],
      "execution_count": 44,
      "outputs": [
        {
          "output_type": "display_data",
          "data": {
            "image/png": "[encoded data removed]",
            "text/plain": [
              "<Figure size 432x288 with 1 Axes>"
            ]
          },
          "metadata": {
            "tags": []
          }
        }
      ]
    },
    {
      "cell_type": "markdown",
      "metadata": {
        "id": "G_nnxa6PiJ39",
        "colab_type": "text"
      },
      "source": [
        "## Part 4: Clustering\n",
        "Consider the scatterplot you've made. How many natural clusters do you think the data seems to form?"
      ]
    },
    {
      "cell_type": "code",
      "metadata": {
        "id": "lYcVALnkiJ3-",
        "colab_type": "code",
        "colab": {}
      },
      "source": [
        "k = 3"
      ],
      "execution_count": 0,
      "outputs": []
    },
    {
      "cell_type": "markdown",
      "metadata": {
        "id": "UoGn70geiJ4B",
        "colab_type": "text"
      },
      "source": [
        "We're going to be employing the k-means algorithm, a form of unsupervised learning. The algorithm will produce an assignment of each data point to one of _k_ clusters (coloring your scatterplot *k* colors). A \"cluster\" is loosely defined by \"the collection of points gathered around a center point (centroid)\" The reason it's unsupervised is because we're not given any training data or labels, but we still have to infer a label for each data point."
      ]
    },
    {
      "cell_type": "markdown",
      "metadata": {
        "id": "jV7mgrQGiJ4B",
        "colab_type": "text"
      },
      "source": [
        "### 4.1: Understanding k-means Psuedocode\n",
        "**Variables**:\n",
        "\n",
        "$k$: the number of clusters\n",
        "\n",
        "$x_1, \\ldots, x_n$: the data (vectors)\n",
        "\n",
        "$l_1, \\ldots, l_n$: the corresponding label of each datapoint (scalars, value in interval \\[1, k\\])\n",
        "\n",
        "$c_1, \\ldots, c_k$: the centroids of each cluster (vectors)\n",
        "\n",
        "\n",
        "\n",
        "**Algorithm**:\n",
        "\n",
        "    Initialize $c_1, \\ldots, c_n$ randomly.\n",
        "\n",
        "    while (centroids still move more than $\\epsilon$ distance, for some small $\\epsilon > 0$)\n",
        "\n",
        "        Assign each $l_i$ label for each point $x_i$ to the nearest centroid's index (if $c_3$ is the closest to $x_i$, set $l_i$ to be 3)\n",
        "        \n",
        "        Update each centroid $c_i$ to be the average of all the $x_i$ points currently assigned to its cluster\n",
        "        \n",
        "  \n",
        "\n",
        "\n",
        "\n",
        "You may notice this functions kind of like the EM algorithm in that we update the centroid (hidden state) and our labels for the data in a loop based on each other. In fact, one might say that k-means is a non-probabilistic (\"hard\") version of EM specifically for clustering."
      ]
    },
    {
      "cell_type": "markdown",
      "metadata": {
        "id": "5pZWgSpviJ4C",
        "colab_type": "text"
      },
      "source": [
        "### 4.2: Implement k-means"
      ]
    },
    {
      "cell_type": "code",
      "metadata": {
        "id": "w6tiLrotiJ4D",
        "colab_type": "code",
        "colab": {}
      },
      "source": [
        "def kmeans(xs, k):\n",
        "    \"\"\"Performs k-means clustering as described above.\n",
        "    \n",
        "    Args:\n",
        "        xs: list of vectors/data\n",
        "        k: the number of clusters to form\n",
        "    \n",
        "    Returns:\n",
        "        ls: list of corresponding labels for each data point, denoting which cluster each point belongs to\n",
        "    \"\"\"\n",
        "    eps = 1e-8\n",
        "\n",
        "    # initialize centroids of clusters\n",
        "    cs = []  # list of centroids\n",
        "    \n",
        "    for i in range(k):\n",
        "        point = []\n",
        "        for dim in np.transpose(xs):\n",
        "            point.append(np.random.uniform(np.array(dim).min(), np.array(dim).max()))\n",
        "        cs.append(point)\n",
        "    \n",
        "    ### Slightly cleaner version of above\n",
        "    #\n",
        "    # centers = []\n",
        "    # for dim in np.transpose(xs):\n",
        "    #     centers.append(np.random.uniform(np.array(dim).min(), np.array(dim).max(), size=k))\n",
        "    #\n",
        "    # cs=np.transpose(centers)\n",
        "    #\n",
        "    ###\n",
        "\n",
        "    # Set an old and new centers\n",
        "    old_cs = np.array(cs)\n",
        "    new_cs = np.zeros(shape=old_cs.shape)\n",
        "\n",
        "    # labels\n",
        "    ls = np.array([0 for i in range(len(xs))])\n",
        "\n",
        "    # Prevent settingold to new on first loop\n",
        "    first = True\n",
        "    \n",
        "    # main loop goes here\n",
        "    while np.linalg.norm(np.subtract(new_cs, old_cs)) > eps:  # TODO: replace True condition with condition based on eps\n",
        "        if not first:\n",
        "            old_cs = new_cs\n",
        "        else:\n",
        "            first = False\n",
        "        # assign labels\n",
        "        for i in range(len(xs)):\n",
        "\n",
        "            # TODO: assign label\n",
        "            ls[i] = np.argmin(np.linalg.norm(np.subtract(old_cs, xs[i]), axis=1))\n",
        "\n",
        "        # recalculate centroids\n",
        "        for i in range(k):\n",
        "            \n",
        "            # TODO: recalculate centroid position\n",
        "            points = np.array([xs[cluster_point] for cluster_point in np.arange(len(xs))[ls == i]])\n",
        "            new_cs[i] = np.mean(points, axis = 0)\n",
        "    \n",
        "    return ls"
      ],
      "execution_count": 0,
      "outputs": []
    },
    {
      "cell_type": "markdown",
      "metadata": {
        "id": "3HEnGHItiJ4F",
        "colab_type": "text"
      },
      "source": [
        "### 4.3 Plot projected data with color labels\n",
        "Use the 'c' argument in `plt.scatter` and the list of labels you derived to color the scatter plot you created in 3.2."
      ]
    },
    {
      "cell_type": "code",
      "metadata": {
        "id": "clmpNw35OBuy",
        "colab_type": "code",
        "colab": {
          "base_uri": "https://localhost:8080/",
          "height": 264
        },
        "outputId": "1a285d18-3c80-42e5-b8bc-ad56a0cebbc0"
      },
      "source": [
        "plt.scatter(t_p[:,0], t_p[:,1],c=kmeans(gene_transform, 3))\n",
        "plt.show()"
      ],
      "execution_count": 136,
      "outputs": [
        {
          "output_type": "display_data",
          "data": {
            "image/png": "[encoded data removed]",
            "text/plain": [
              "<Figure size 432x288 with 1 Axes>"
            ]
          },
          "metadata": {
            "tags": []
          }
        }
      ]
    },
    {
      "cell_type": "markdown",
      "metadata": {
        "id": "8Wwh0s2ciJ4H",
        "colab_type": "text"
      },
      "source": [
        "Written by Andrew Li for BioE 145 Spring 2020 at UC Berkeley."
      ]
    }
  ]
}