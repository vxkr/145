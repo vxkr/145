{
 "cells": [
  {
   "cell_type": "code",
   "execution_count": 0,
   "metadata": {
    "colab": {},
    "colab_type": "code",
    "id": "-U_Ws4rv0dKo"
   },
   "outputs": [],
   "source": [
    "import numpy as np\n",
    "import pandas as pd\n",
    "import matplotlib.pyplot as plt\n",
    "from scipy.stats import poisson"
   ]
  },
  {
   "cell_type": "code",
   "execution_count": 0,
   "metadata": {
    "colab": {},
    "colab_type": "code",
    "id": "xh68Hn3b0jNC"
   },
   "outputs": [],
   "source": [
    "two = pd.read_csv(\"q2_set_1.tsv\", sep='\\t', index_col=0)\n",
    "three_1 = pd.read_csv(\"q3_set_1.tsv\", sep='\\t')\n",
    "three_2 = pd.read_csv(\"q3_set_2.tsv\", sep='\\t')"
   ]
  },
  {
   "cell_type": "markdown",
   "metadata": {
    "colab_type": "text",
    "id": "BAaNGUoq9tnB"
   },
   "source": [
    "# 2. Poisson Counts"
   ]
  },
  {
   "cell_type": "markdown",
   "metadata": {
    "colab_type": "text",
    "id": "pYMnnV7Z6-Zx"
   },
   "source": [
    "## 2b. Compute Lambdas"
   ]
  },
  {
   "cell_type": "code",
   "execution_count": 0,
   "metadata": {
    "colab": {},
    "colab_type": "code",
    "id": "XmcGvjpFNTHN"
   },
   "outputs": [],
   "source": [
    "two_x = two.iloc[0,0:5].to_numpy()\n",
    "two_y = two.iloc[0,5:].to_numpy()\n",
    "two_all = two.iloc[0,:].to_numpy()"
   ]
  },
  {
   "cell_type": "code",
   "execution_count": 4,
   "metadata": {
    "colab": {
     "base_uri": "https://localhost:8080/",
     "height": 68
    },
    "colab_type": "code",
    "id": "pO9Hm6b6NX7J",
    "outputId": "657c085b-c07f-4062-eaa0-a7318b6a8ae6"
   },
   "outputs": [
    {
     "name": "stdout",
     "output_type": "stream",
     "text": [
      "lambda_0: 5889.4\n",
      "lambda_x: 5902.6\n",
      "lambda_y: 5876.2\n"
     ]
    }
   ],
   "source": [
    "lambda_0 = np.mean(two_all)\n",
    "lambda_x = np.mean(two_x)\n",
    "lambda_y = np.mean(two_y)\n",
    "print(\"lambda_0: \" + str(lambda_0))\n",
    "print(\"lambda_x: \" + str(lambda_x))\n",
    "print(\"lambda_y: \" + str(lambda_y))"
   ]
  },
  {
   "cell_type": "markdown",
   "metadata": {
    "colab_type": "text",
    "id": "GgI793hi8sqD"
   },
   "source": [
    "## 2d. Compute Likelihoods"
   ]
  },
  {
   "cell_type": "code",
   "execution_count": 5,
   "metadata": {
    "colab": {
     "base_uri": "https://localhost:8080/",
     "height": 51
    },
    "colab_type": "code",
    "id": "qB7c-ZJiPKff",
    "outputId": "a62daa75-2580-4537-8b8f-42300bf8b378"
   },
   "outputs": [
    {
     "name": "stdout",
     "output_type": "stream",
     "text": [
      "likelihood_0: 2.2655243807774852e-24\n",
      "likelihood_a: 2.626712736561282e-24\n"
     ]
    }
   ],
   "source": [
    "likelihood_0 = np.prod(poisson.pmf(two_all, lambda_0))\n",
    "likelihood_a = np.prod(poisson.pmf(two_x, lambda_x))*np.prod(poisson.pmf(two_y, \n",
    "                                                                         lambda_y))\n",
    "print(\"likelihood_0: \" + str(likelihood_0))\n",
    "print(\"likelihood_a: \" + str(likelihood_a))"
   ]
  },
  {
   "cell_type": "markdown",
   "metadata": {
    "colab_type": "text",
    "id": "f8L5Qjrw8yQX"
   },
   "source": [
    "## 2e. Compute Likelihood Ratio"
   ]
  },
  {
   "cell_type": "code",
   "execution_count": 6,
   "metadata": {
    "colab": {
     "base_uri": "https://localhost:8080/",
     "height": 34
    },
    "colab_type": "code",
    "id": "unIIrE4qPLl1",
    "outputId": "9e179181-7f40-4314-9563-d8cd1096e834"
   },
   "outputs": [
    {
     "name": "stdout",
     "output_type": "stream",
     "text": [
      "Likelihood ratio: 0.29585381503238745\n"
     ]
    }
   ],
   "source": [
    "ratio = -2*np.log(likelihood_0/likelihood_a)\n",
    "print(\"Likelihood ratio: \" + str(ratio))"
   ]
  },
  {
   "cell_type": "markdown",
   "metadata": {
    "colab_type": "text",
    "id": "dq4x-bAQ8-GF"
   },
   "source": [
    "# 3. Comparing Distributions"
   ]
  },
  {
   "cell_type": "code",
   "execution_count": 0,
   "metadata": {
    "colab": {},
    "colab_type": "code",
    "id": "ErkpPCxF9lKJ"
   },
   "outputs": [],
   "source": [
    "set_1 = {'cond1': three_1.iloc[:,:5].to_numpy(),\n",
    "'cond2': three_1.iloc[:,5:].to_numpy()}\n",
    "\n",
    "set_2 = {'cond1': three_2.iloc[:,:5].to_numpy(),\n",
    "'cond2': three_2.iloc[:,5:].to_numpy()}"
   ]
  },
  {
   "cell_type": "markdown",
   "metadata": {
    "colab_type": "text",
    "id": "WlohA2cA9rSn"
   },
   "source": [
    "## 3a. Mean and Variance"
   ]
  },
  {
   "cell_type": "code",
   "execution_count": 0,
   "metadata": {
    "colab": {},
    "colab_type": "code",
    "id": "EFmx5xLB-S8S"
   },
   "outputs": [],
   "source": [
    "set_1_stats = {}\n",
    "set_2_stats = {}\n",
    "\n",
    "for data, stat in zip([set_1, set_2], [set_1_stats, set_2_stats]):\n",
    "    for cond in data.keys():\n",
    "        stat['mean'+'_'+cond] = np.mean(data[cond], axis = 1)\n",
    "        stat['var'+'_'+cond] = np.var(data[cond], axis = 1)"
   ]
  },
  {
   "cell_type": "markdown",
   "metadata": {
    "colab_type": "text",
    "id": "Ku0x8YXLE9J3"
   },
   "source": [
    "## 3b. Plot Means and Variances"
   ]
  },
  {
   "cell_type": "code",
   "execution_count": 9,
   "metadata": {
    "colab": {
     "base_uri": "https://localhost:8080/",
     "height": 573
    },
    "colab_type": "code",
    "id": "FZXxblaiDZ-q",
    "outputId": "14b0dfb7-46b9-4b01-f931-2caf95f30553"
   },
   "outputs": [
    {
     "data": {
      "image/png": "[encoded data removed]",
      "text/plain": [
       "<Figure size 432x288 with 1 Axes>"
      ]
     },
     "metadata": {
      "tags": []
     },
     "output_type": "display_data"
    },
    {
     "data": {
      "image/png": "[encoded data removed]",
      "text/plain": [
       "<Figure size 432x288 with 1 Axes>"
      ]
     },
     "metadata": {
      "tags": []
     },
     "output_type": "display_data"
    }
   ],
   "source": [
    "for i, stat in enumerate([set_1_stats, set_2_stats]):\n",
    "    plt.figure()\n",
    "    means = np.concatenate((stat['mean_cond1'], stat['mean_cond2']))\n",
    "    variances = np.concatenate((stat['var_cond1'], stat['var_cond2']))\n",
    "    plt.scatter(means, variances)\n",
    "    plt.title(\"Set \"+str(i))\n",
    "    plt.xlabel(\"Means\")\n",
    "    plt.ylabel(\"Variances\")\n",
    "    plt.plot()"
   ]
  },
  {
   "cell_type": "markdown",
   "metadata": {
    "colab_type": "text",
    "id": "6NZi_E9kFE_U"
   },
   "source": [
    "## 3c.i. Determine statistical difference in expression counts"
   ]
  },
  {
   "cell_type": "code",
   "execution_count": 10,
   "metadata": {
    "colab": {
     "base_uri": "https://localhost:8080/",
     "height": 34
    },
    "colab_type": "code",
    "id": "s1GBo9xRQDSm",
    "outputId": "3e1a030f-3c3d-47eb-c8f0-2067bcca9a44"
   },
   "outputs": [
    {
     "name": "stderr",
     "output_type": "stream",
     "text": [
      "/usr/local/lib/python3.6/dist-packages/ipykernel_launcher.py:19: RuntimeWarning: divide by zero encountered in log\n"
     ]
    }
   ],
   "source": [
    "significant = {\"set1\": 0, \"set2\": 0}\n",
    "\n",
    "n = len(three_1)\n",
    "\n",
    "for j, (data, stat) in enumerate(zip([set_1, set_2], \n",
    "                           [set_1_stats, set_2_stats])):\n",
    "    for i in range(n):\n",
    "        both_conds = np.concatenate((data['cond1'][i], data['cond2'][i]))\n",
    "\n",
    "        lambda_0 = np.mean(both_conds)\n",
    "        likelihood_0 = np.prod(poisson.pmf(both_conds, lambda_0))\n",
    "\n",
    "        lambda_cond1 = stat['mean_cond1'][i]\n",
    "        lambda_cond2 = stat['mean_cond2'][i]\n",
    "        likelihood_a = np.prod(poisson.pmf(data['cond1'][i], \n",
    "                            lambda_cond1))*np.prod(poisson.pmf(data['cond2'][i], \n",
    "                                                               lambda_cond2))\n",
    "        \n",
    "        ratio = -2*np.log(likelihood_0/likelihood_a) \n",
    "        if ratio > 3.84:\n",
    "            significant['set'+str(j+1)] += 1\n"
   ]
  },
  {
   "cell_type": "code",
   "execution_count": 11,
   "metadata": {
    "colab": {
     "base_uri": "https://localhost:8080/",
     "height": 34
    },
    "colab_type": "code",
    "id": "6lWp30eEIl42",
    "outputId": "18d955cd-9c76-41dc-819a-a18a9c4a1b16"
   },
   "outputs": [
    {
     "name": "stdout",
     "output_type": "stream",
     "text": [
      "{'set1': 139, 'set2': 376}\n"
     ]
    }
   ],
   "source": [
    "print(significant)"
   ]
  },
  {
   "cell_type": "markdown",
   "metadata": {
    "colab_type": "text",
    "id": "PKL9HCGmKGrL"
   },
   "source": [
    "## 3.c.ii. Determine underlying distribution\n",
    "\n",
    "Using Poisson on the negative binomial gives us an inflated number of  \n",
    "signficant differences. Based on the plots in 3b and the counts of significant  \n",
    "differences, we can coonclude that set 1 is the Poisson distribution and set 2  \n",
    "is the negative binomial distribution. \n"
   ]
  }
 ],
 "metadata": {
  "colab": {
   "collapsed_sections": [],
   "name": "Assignment 3 code.ipynb",
   "provenance": []
  },
  "kernelspec": {
   "display_name": "Python 3",
   "language": "python",
   "name": "python3"
  },
  "language_info": {
   "codemirror_mode": {
    "name": "ipython",
    "version": 3
   },
   "file_extension": ".py",
   "mimetype": "text/x-python",
   "name": "python",
   "nbconvert_exporter": "python",
   "pygments_lexer": "ipython3",
   "version": "3.7.4"
  }
 },
 "nbformat": 4,
 "nbformat_minor": 1
}
