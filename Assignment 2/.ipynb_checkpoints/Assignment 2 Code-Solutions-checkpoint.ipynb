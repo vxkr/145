{
 "cells": [
  {
   "cell_type": "code",
   "execution_count": 8,
   "metadata": {},
   "outputs": [],
   "source": [
    "import numpy as np\n",
    "from sklearn.preprocessing import normalize"
   ]
  },
  {
   "cell_type": "code",
   "execution_count": 9,
   "metadata": {},
   "outputs": [],
   "source": [
    "# Constants used in this exercise\n",
    "# Fill in all of the ...s/TODOs\n",
    "width = 8\n",
    "\n",
    "# Helper dict for indexing\n",
    "let_dict = {\"A\":0, \"C\":1, \"G\":2, \"T\":3}"
   ]
  },
  {
   "cell_type": "code",
   "execution_count": 10,
   "metadata": {},
   "outputs": [],
   "source": [
    "# Read in the files using BioPython\n",
    "# TODO:\n",
    "from Bio import SeqIO\n",
    "fastas = [i for i in SeqIO.parse(\"motif_regions.fa\", \"fasta\")]"
   ]
  },
  {
   "cell_type": "code",
   "execution_count": 11,
   "metadata": {},
   "outputs": [],
   "source": [
    "# Extract strings of sequences from the above files\n",
    "# TODO:\n",
    "\n",
    "sequences = [str(i.seq) for i in fastas]"
   ]
  },
  {
   "cell_type": "code",
   "execution_count": 12,
   "metadata": {},
   "outputs": [],
   "source": [
    "# Initialize p with a uniform background\n",
    "\n",
    "def init_p(l, w, seqs, let):\n",
    "    p = np.zeros((4, w+1))\n",
    "\n",
    "    # set a uniform background\n",
    "    for i in let.keys():\n",
    "        # TODO:\n",
    "        p[let[i]][0] = 0.25\n",
    "\n",
    "    # set motif positions\n",
    "    for i in range(l-w+1):\n",
    "        for sequence in seqs:\n",
    "            for j in range(w):\n",
    "                \n",
    "                # Fill in p_0\n",
    "                # TODO:               \n",
    "                p[ let[ sequence[i + j] ] ][j + 1] += 1 #ANSWER\n",
    "\n",
    "    # normalize columns to sum to 1\n",
    "    p = normalize(p, axis = 0, norm = 'l1')\n",
    "    \n",
    "    return p"
   ]
  },
  {
   "cell_type": "code",
   "execution_count": 13,
   "metadata": {},
   "outputs": [],
   "source": [
    "# Define a general function to run EM\n",
    "\n",
    "def run_EM(w, seqs, let, init_p, up_prob, up_motif, epsilon = 0.0001):\n",
    "    l = len(seqs[0])\n",
    "\n",
    "    no_change = False\n",
    "    \n",
    "    # set an initial p_t_1\n",
    "    # TODO:\n",
    "    p_t_1 = init_p(l, w, seqs, let) #ANSWER\n",
    "    \n",
    "    while not no_change:\n",
    "        \n",
    "        # Label the following steps as E step or M step in the comment preceding\n",
    "        \n",
    "        # TODO:\n",
    "        # E step #ANSWER\n",
    "        \n",
    "        z_t = up_motif(l, w, p_t_1, seqs, let)\n",
    "        \n",
    "        # TODO:\n",
    "        # M step #ANSWER\n",
    "        \n",
    "        p_t = up_prob(l, w, z_t, seqs, let)\n",
    "        \n",
    "        diff = np.subtract(p_t, p_t_1)\n",
    "        \n",
    "        # Write a condition to stop the EM iterations (use epsilon and diff)\n",
    "        # TODO:\n",
    "        if 4*(w+1) == np.sum(diff<epsilon): #ANSWER\n",
    "            no_change = True\n",
    "        else:\n",
    "            # Update p_t_1\n",
    "            # TODO:s\n",
    "            p_t_1 = p_t #ANSWER\n",
    "    \n",
    "    return p_t, z_t"
   ]
  },
  {
   "cell_type": "code",
   "execution_count": 16,
   "metadata": {},
   "outputs": [],
   "source": [
    "# Define a function to update z\n",
    "\n",
    "def up_motif(l, w, p_t_1, seqs, let):\n",
    "    z_t = np.zeros((len(seqs), l-w+1))\n",
    "        \n",
    "    for i, sequence in enumerate(seqs):\n",
    "        for j in range(l-w+1):\n",
    "            \n",
    "            # Fill in z_t using p_t_1\n",
    "\n",
    "            p_vals = []\n",
    "            for position, letter in enumerate(sequence):\n",
    "                \n",
    "                # TODO:\n",
    "                if position>=j and position<j+w:\n",
    "                    p_vals.append(p_t_1[let[letter]][position-j+1])\n",
    "                else:\n",
    "                    p_vals.append(p_t_1[let[letter]][0])\n",
    "            \n",
    "            # TODO:\n",
    "            z_t[i][j] = np.prod(muls)\n",
    "            \n",
    "            ### One-line solution\n",
    "            #\n",
    "            # z_t[i][j] = np.prod([p_t_1[let[letter]][int(position>=j)*int(position<j+w)*(position-j+1)] for position, letter in enumerate(sequence)])\n",
    "            #\n",
    "            ###\n",
    "            \n",
    "    # Normalize z_t so each row sums to 1\n",
    "    # TODO:\n",
    "    z_t = normalize(z_t, axis = 1, norm = 'l1') #ANSWER\n",
    "    \n",
    "    return z_t\n",
    "    "
   ]
  },
  {
   "cell_type": "code",
   "execution_count": 17,
   "metadata": {},
   "outputs": [],
   "source": [
    "from collections import Counter\n",
    "\n",
    "# Define a function to update p\n",
    "\n",
    "def up_prob(l, w, z_t, seqs, let):\n",
    "    p_t = np.zeros((4, w+1))\n",
    "    \n",
    "    n = np.zeros((4, w+1))\n",
    "    \n",
    "    # Fill in n for k > 0\n",
    "    for k in range(1, w+1):\n",
    "        for letter in let.keys():\n",
    "            sum_z = 0\n",
    "            for i, sequence in enumerate(seqs):\n",
    "                \n",
    "                # Write j_vals according to the condition seen in lecture\n",
    "                # TODO:\n",
    "                j_vals = [i for i in range(l-w+1) if sequence[i+k-1] == letter] #ANSWER\n",
    "                \n",
    "                # Fill in the sum using z_t\n",
    "                # TODO:\n",
    "                sum_z += np.sum([z_t[i][j] for j in j_vals]) #ANSWER\n",
    "            \n",
    "            # Fill in the correct indices\n",
    "            # TODO:\n",
    "            n[let[letter]][k] = sum_z #ANSWER\n",
    "     \n",
    "    # Fill in n for k == 0\n",
    "    \n",
    "    # May help to make the next step easier\n",
    "    joined_seq = \"\".join(seqs)\n",
    "    \n",
    "    # Create a dict with total counts of A,C,G,T\n",
    "    # TODO:\n",
    "    counts = Counter(joined_seq) #ANSWER\n",
    "    \n",
    "    # Sum across the rows of n\n",
    "    # TODO:\n",
    "    sum_n_j = np.sum(n, axis = 1) #ANSWER\n",
    "    \n",
    "        \n",
    "    for letter in let.keys():\n",
    "        \n",
    "        # Fill in the correct indices and its value\n",
    "        # TODO:\n",
    "        n[let[letter]][0] = counts[letter] - sum_n_j[let[letter]] #ANSWER\n",
    "\n",
    "    \n",
    "    # Use n to fill in p_t\n",
    "    # Pseudo-count = 1\n",
    "    # TODO:\n",
    "    p_t = np.divide(n + 1, np.sum(n, axis = 0) + 4) #ANSWER\n",
    "    \n",
    "    return p_t\n",
    "    "
   ]
  },
  {
   "cell_type": "code",
   "execution_count": 18,
   "metadata": {},
   "outputs": [
    {
     "name": "stdout",
     "output_type": "stream",
     "text": [
      "CPU times: user 18.6 s, sys: 1.22 ms, total: 18.6 s\n",
      "Wall time: 18.6 s\n"
     ]
    }
   ],
   "source": [
    "%%time\n",
    "# TODO:\n",
    "p_end, z_end = run_EM(width, sequences, let_dict, init_p, up_prob, up_motif, 0.0001) #ANSWER"
   ]
  },
  {
   "cell_type": "code",
   "execution_count": 19,
   "metadata": {},
   "outputs": [
    {
     "name": "stdout",
     "output_type": "stream",
     "text": [
      "['AGAAAAATT', 'GGACGGTTC', 'GGTAACAT', 'GGAAAATTG', 'AGAAGATTC', 'AGAAAAAAC', 'AGAACAATT', 'AGAAAAAAA', 'AGAATATTC', 'GAAAAAATT', 'AGAAAAAAC', 'AGAAAAAA', 'GGAAAAAAA', 'AGAATATTG', 'GGAAGGTTC', 'GGAAAATAA', 'AGAAAATGA', 'AGAAAAAAG', 'AGCTAAATT', 'AGAAAAAAA', 'GGAAAAAGA', 'AGAACCATC', 'GGAAATTTC', 'CGAAGGTTC', 'GGAAAAATA', 'AGAACAAAA', 'AGAAAAATT', 'AGAAAAATA', 'AGAAGAAAT', 'AGAAATTTC', 'GGAAAAATA', 'CGAAAATTT', 'GGAAAATTC', 'AAAAGATTA', 'AGAAAAAAG', 'GGAAGAAAT', 'AGAAAAAGA', 'AAAAGATTG', 'AGAACCTTC', 'GGAAAAATT', 'AGAAAAAAA', 'AGAATAATA', 'AGAACAATA', 'AAAAGCTGA', 'AGAAAAATA', 'AGAAAAATA', 'GGAAAATCT', 'GGAAAATTT', 'AGAAAAAAA', 'GTAAAGAGC']\n"
     ]
    }
   ],
   "source": [
    "# Find the indices of the max element for each row in z_end\n",
    "# TODO:\n",
    "motif_indices = np.argmax(z_end, axis=1) #ANSWER\n",
    "\n",
    "# Get the 'width' characters long motifs using seqs\n",
    "# TODO:\n",
    "motifs = [sequences[i][pos:pos+width+1] for i,pos in enumerate(motif_indices)]\n",
    "print(motifs)"
   ]
  },
  {
   "cell_type": "code",
   "execution_count": 20,
   "metadata": {},
   "outputs": [
    {
     "data": {
      "text/plain": [
       "array([0, 0, 2, 0, 0, 0, 0, 0, 3])"
      ]
     },
     "execution_count": 20,
     "metadata": {},
     "output_type": "execute_result"
    }
   ],
   "source": [
    "np.argmax(p_end, axis=0)"
   ]
  },
  {
   "cell_type": "code",
   "execution_count": 21,
   "metadata": {},
   "outputs": [
    {
     "data": {
      "text/plain": [
       "array([51, 62, 93, 36, 47,  1, 48, 56, 53, 37, 66, 93, 75, 82, 55, 52, 47,\n",
       "       74, 51, 62,  4, 53, 62, 45, 92, 34, 34, 71, 63, 44, 21, 84, 50,  6,\n",
       "       49, 61, 44, 82, 43, 49, 58, 61, 74, 61, 62,  9, 33, 78, 27,  7])"
      ]
     },
     "execution_count": 21,
     "metadata": {},
     "output_type": "execute_result"
    }
   ],
   "source": [
    "motif_indices"
   ]
  }
 ],
 "metadata": {
  "kernelspec": {
   "display_name": "Python 3",
   "language": "python",
   "name": "python3"
  },
  "language_info": {
   "codemirror_mode": {
    "name": "ipython",
    "version": 3
   },
   "file_extension": ".py",
   "mimetype": "text/x-python",
   "name": "python",
   "nbconvert_exporter": "python",
   "pygments_lexer": "ipython3",
   "version": "3.7.4"
  }
 },
 "nbformat": 4,
 "nbformat_minor": 2
}
