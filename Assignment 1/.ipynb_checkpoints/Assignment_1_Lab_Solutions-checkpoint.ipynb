{
 "cells": [
  {
   "cell_type": "markdown",
   "metadata": {
    "colab_type": "text",
    "id": "aqi2gsFbkdJj"
   },
   "source": [
    "# Assignment 1 - Lab Exercises\n",
    "\n",
    "## 1. Short Python Practice\n",
    "\n",
    "### Task: Create a class named Dog\n",
    "\n",
    "*   Each instance of the class should have a variable, name (should be set on creating one)\n",
    "*   The class has two main methods, action and age\n",
    "*   Action is an instance method taking in an *optional* parameter, quietly. Calling action prints \"WOOF WOOF WOOF \" if nothing is passed in, \"woof \" if quietly is passed in as True. (Use only one hardcoded string in the method)\n",
    "* Age is a class method that takes in a list of ages in human years and returns it in dog years (Use list comprehension)\n"
   ]
  },
  {
   "cell_type": "code",
   "execution_count": 0,
   "metadata": {
    "colab": {},
    "colab_type": "code",
    "id": "HVDg_IV_mdgl"
   },
   "outputs": [],
   "source": [
    "class Dog:\n",
    "\n",
    "    def __init__(self, name):\n",
    "        # complete the class\n",
    "        self.name = name\n",
    "    \n",
    "    def action(self, quietly=False):\n",
    "        bark = \"woof \"\n",
    "        if quietly:\n",
    "            print(bark.strip())\n",
    "        else:\n",
    "            print((3*bark.upper()).rstrip())\n",
    "    \n",
    "    def age(humans):\n",
    "        return [i*7 for i in humans]"
   ]
  },
  {
   "cell_type": "code",
   "execution_count": 0,
   "metadata": {
    "colab": {},
    "colab_type": "code",
    "id": "2cFO1cCoPLGZ"
   },
   "outputs": [],
   "source": [
    "human_ages = [3, 4, 7, 4, 10, 6]"
   ]
  },
  {
   "cell_type": "markdown",
   "metadata": {
    "colab_type": "text",
    "id": "w4X7I9zQbF-l"
   },
   "source": [
    "1.    Create an instance of this class, and print its name\n",
    "2.   Call action with both possible options for the parameter\n",
    "3.   Call age on the provided array above"
   ]
  },
  {
   "cell_type": "code",
   "execution_count": 0,
   "metadata": {
    "colab": {
     "base_uri": "https://localhost:8080/",
     "height": 82
    },
    "colab_type": "code",
    "id": "uMd7Ovaua7gN",
    "outputId": "4e50b713-a3ea-4fb5-b617-bbb691101fa8"
   },
   "outputs": [
    {
     "name": "stdout",
     "output_type": "stream",
     "text": [
      "Fido\n",
      "WOOF WOOF WOOF\n",
      "woof\n"
     ]
    },
    {
     "data": {
      "text/plain": [
       "[21, 28, 49, 28, 70, 42]"
      ]
     },
     "execution_count": 59,
     "metadata": {
      "tags": []
     },
     "output_type": "execute_result"
    }
   ],
   "source": [
    "# complete the task above\n",
    "fido = Dog(\"Fido\")\n",
    "print(fido.name)\n",
    "fido.action()\n",
    "fido.action(quietly=True)\n",
    "Dog.age(human_ages)"
   ]
  },
  {
   "cell_type": "markdown",
   "metadata": {
    "colab_type": "text",
    "id": "NzvuseP2qArC"
   },
   "source": [
    "## 2. Numpy Practice\n",
    "\n",
    "Numpy is a commonly used library in Python for handling data, especially helpful for handling arrays/multi-dimensional arrays. It's particularly important for helping bridge the ineffiencies of Python as a high level language with the improved performance of handling data structures in low level languages like C. \n",
    "\n",
    "### Part 1: General Numpy Array Exercises\n",
    "\n",
    "1.   Create a matrix, with shape 10 x 7, of ones\n",
    "2.   Create 10 matrices, with shape 100 x 70, of random integers from -10 to 10\n",
    "3.   Print the number of elements equal between a pair of matrices, for each possible pair in the 10 created above except for with itself (Don't compare the 1st with the 1st)\n",
    "\n"
   ]
  },
  {
   "cell_type": "code",
   "execution_count": 0,
   "metadata": {
    "colab": {
     "base_uri": "https://localhost:8080/",
     "height": 33
    },
    "colab_type": "code",
    "id": "gJMCdfhPoNYG",
    "outputId": "37c8e6e9-a4cf-4076-ee54-124fad3790cc"
   },
   "outputs": [
    {
     "name": "stdout",
     "output_type": "stream",
     "text": [
      "Rolled a 3\n"
     ]
    }
   ],
   "source": [
    "import numpy as np\n",
    "\n",
    "# example\n",
    "die_roll = np.random.randint(1, 6)\n",
    "print(\"Rolled a \" + str(die_roll))"
   ]
  },
  {
   "cell_type": "code",
   "execution_count": 0,
   "metadata": {
    "colab": {
     "base_uri": "https://localhost:8080/",
     "height": 180
    },
    "colab_type": "code",
    "id": "omQ7b9YvP4kQ",
    "outputId": "ab3abe68-ef27-4864-dd57-c496a042731f"
   },
   "outputs": [
    {
     "name": "stdout",
     "output_type": "stream",
     "text": [
      "[[1. 1. 1. 1. 1. 1. 1.]\n",
      " [1. 1. 1. 1. 1. 1. 1.]\n",
      " [1. 1. 1. 1. 1. 1. 1.]\n",
      " [1. 1. 1. 1. 1. 1. 1.]\n",
      " [1. 1. 1. 1. 1. 1. 1.]\n",
      " [1. 1. 1. 1. 1. 1. 1.]\n",
      " [1. 1. 1. 1. 1. 1. 1.]\n",
      " [1. 1. 1. 1. 1. 1. 1.]\n",
      " [1. 1. 1. 1. 1. 1. 1.]\n",
      " [1. 1. 1. 1. 1. 1. 1.]]\n"
     ]
    }
   ],
   "source": [
    "#complete part 1\n",
    "uno = np.ones((10,7))\n",
    "print(uno)"
   ]
  },
  {
   "cell_type": "code",
   "execution_count": 0,
   "metadata": {
    "colab": {},
    "colab_type": "code",
    "id": "x__ntp4P2U-K"
   },
   "outputs": [],
   "source": [
    "mats = []\n",
    "for i in range(10):\n",
    "    mats.append(np.random.randint(-10,10,size=(100,70)))"
   ]
  },
  {
   "cell_type": "code",
   "execution_count": 0,
   "metadata": {
    "colab": {
     "base_uri": "https://localhost:8080/",
     "height": 748
    },
    "colab_type": "code",
    "id": "mFvUp5eN2gWx",
    "outputId": "bd5489e9-0042-45b3-99ab-00c837d5b488"
   },
   "outputs": [
    {
     "name": "stdout",
     "output_type": "stream",
     "text": [
      "Matrix 0 and matrix 1 have 365 elements in common\n",
      "Matrix 0 and matrix 2 have 357 elements in common\n",
      "Matrix 0 and matrix 3 have 374 elements in common\n",
      "Matrix 0 and matrix 4 have 358 elements in common\n",
      "Matrix 0 and matrix 5 have 325 elements in common\n",
      "Matrix 0 and matrix 6 have 311 elements in common\n",
      "Matrix 0 and matrix 7 have 362 elements in common\n",
      "Matrix 0 and matrix 8 have 350 elements in common\n",
      "Matrix 0 and matrix 9 have 326 elements in common\n",
      "Matrix 1 and matrix 2 have 333 elements in common\n",
      "Matrix 1 and matrix 3 have 373 elements in common\n",
      "Matrix 1 and matrix 4 have 335 elements in common\n",
      "Matrix 1 and matrix 5 have 322 elements in common\n",
      "Matrix 1 and matrix 6 have 359 elements in common\n",
      "Matrix 1 and matrix 7 have 342 elements in common\n",
      "Matrix 1 and matrix 8 have 344 elements in common\n",
      "Matrix 1 and matrix 9 have 355 elements in common\n",
      "Matrix 2 and matrix 3 have 346 elements in common\n",
      "Matrix 2 and matrix 4 have 369 elements in common\n",
      "Matrix 2 and matrix 5 have 357 elements in common\n",
      "Matrix 2 and matrix 6 have 369 elements in common\n",
      "Matrix 2 and matrix 7 have 362 elements in common\n",
      "Matrix 2 and matrix 8 have 373 elements in common\n",
      "Matrix 2 and matrix 9 have 342 elements in common\n",
      "Matrix 3 and matrix 4 have 345 elements in common\n",
      "Matrix 3 and matrix 5 have 315 elements in common\n",
      "Matrix 3 and matrix 6 have 378 elements in common\n",
      "Matrix 3 and matrix 7 have 345 elements in common\n",
      "Matrix 3 and matrix 8 have 367 elements in common\n",
      "Matrix 3 and matrix 9 have 331 elements in common\n",
      "Matrix 4 and matrix 5 have 308 elements in common\n",
      "Matrix 4 and matrix 6 have 384 elements in common\n",
      "Matrix 4 and matrix 7 have 357 elements in common\n",
      "Matrix 4 and matrix 8 have 369 elements in common\n",
      "Matrix 4 and matrix 9 have 324 elements in common\n",
      "Matrix 5 and matrix 6 have 339 elements in common\n",
      "Matrix 5 and matrix 7 have 334 elements in common\n",
      "Matrix 5 and matrix 8 have 346 elements in common\n",
      "Matrix 5 and matrix 9 have 366 elements in common\n",
      "Matrix 6 and matrix 7 have 362 elements in common\n",
      "Matrix 6 and matrix 8 have 369 elements in common\n",
      "Matrix 6 and matrix 9 have 348 elements in common\n",
      "Matrix 7 and matrix 8 have 340 elements in common\n",
      "Matrix 7 and matrix 9 have 371 elements in common\n",
      "Matrix 8 and matrix 9 have 308 elements in common\n"
     ]
    }
   ],
   "source": [
    "for i in range(10):\n",
    "    for j in range(i+1, 10):\n",
    "        common = np.sum(mats[i]==mats[j])\n",
    "        print(\"Matrix \"+ str(i)+\" and matrix \"+str(j)+\" have \"+ str(common) \n",
    "        +\" elements in common\")"
   ]
  },
  {
   "cell_type": "markdown",
   "metadata": {
    "colab_type": "text",
    "id": "8SOYWaA-KJZJ"
   },
   "source": [
    "### Part 2: Splicing and some Numpy Methods\n",
    "\n",
    "1.   Find the pseudoinverse of one of the above matrices (or create a new one with shape 100 x 70)\n",
    "2.   Turns out the last 40 rows and last 10 columns of data were useless. Set a new variable to the matrix used above, without the last 40 rows or 10 columns.\n",
    "3.   Find the inverse for this square matrix.\n",
    "\n",
    "Optional: You can use the same command for 1 and 3 (briefly explain why if you do)"
   ]
  },
  {
   "cell_type": "code",
   "execution_count": 0,
   "metadata": {
    "colab": {},
    "colab_type": "code",
    "id": "A70n_Fm3NKDq"
   },
   "outputs": [],
   "source": [
    "# complete part 2\n",
    "mat = mats[0]\n",
    "pinv = np.linalg.pinv(mat)\n",
    "mat_square = mat[:-40, :-10]\n",
    "inv = np.linalg.pinv(mat_square)"
   ]
  },
  {
   "cell_type": "code",
   "execution_count": 0,
   "metadata": {
    "colab": {
     "base_uri": "https://localhost:8080/",
     "height": 82
    },
    "colab_type": "code",
    "id": "gT5n1eXT8U6B",
    "outputId": "d97efe38-a782-4e3f-dabe-f39aa5f02205"
   },
   "outputs": [
    {
     "name": "stdout",
     "output_type": "stream",
     "text": [
      "(100, 70)\n",
      "(70, 100)\n",
      "(60, 60)\n",
      "(60, 60)\n"
     ]
    }
   ],
   "source": [
    "print(mat.shape)\n",
    "print(pinv.shape)\n",
    "print(mat_square.shape)\n",
    "print(inv.shape)"
   ]
  },
  {
   "cell_type": "markdown",
   "metadata": {
    "colab_type": "text",
    "id": "MaGMzk9qQm_u"
   },
   "source": [
    "### Part 3: Matrix Methods \n",
    "\n",
    "1.    Generate 2 more matrices, *a* and *b* with shape 2 x 3 and 4 x 3.\n",
    "2.    Create 2 matrices, *a_on_b* and *b_on_a* - for the first, stack a on top of b, and the opposite for the second. The join them to create *abba*, with *b_on_a* to the right of *a_on_b*\n",
    "3.    Print the right eigenvalues and eigenvectors for *abba*"
   ]
  },
  {
   "cell_type": "code",
   "execution_count": 0,
   "metadata": {
    "colab": {
     "base_uri": "https://localhost:8080/",
     "height": 212
    },
    "colab_type": "code",
    "id": "4ji2mGwuTb_L",
    "outputId": "4efa3228-8a34-4acd-f0bf-753c7e9b2ac3"
   },
   "outputs": [
    {
     "name": "stdout",
     "output_type": "stream",
     "text": [
      "[[ 2 -5 -8]\n",
      " [ 5  2  8]]\n",
      "[[  6  -3  -1]\n",
      " [  6  -7  -4]\n",
      " [  7   8   6]\n",
      " [  6  -1 -10]]\n",
      "[[  2  -5  -8   6  -3  -1]\n",
      " [  5   2   8   6  -7  -4]\n",
      " [  6  -3  -1   7   8   6]\n",
      " [  6  -7  -4   6  -1 -10]\n",
      " [  7   8   6   2  -5  -8]\n",
      " [  6  -1 -10   5   2   8]]\n"
     ]
    }
   ],
   "source": [
    "# complete part 3\n",
    "a = np.random.randint(-10, 10, size=(2,3))\n",
    "b = np.random.randint(-10, 10, size=(4,3))\n",
    "a_on_b = np.vstack((a,b))\n",
    "b_on_a = np.vstack((b,a))\n",
    "abba = np.hstack((a_on_b, b_on_a))\n",
    "print(a)\n",
    "print(b)\n",
    "print(abba)"
   ]
  },
  {
   "cell_type": "code",
   "execution_count": 0,
   "metadata": {
    "colab": {
     "base_uri": "https://localhost:8080/",
     "height": 342
    },
    "colab_type": "code",
    "id": "e7NQuj7l8JH4",
    "outputId": "8d718b75-ea8b-4567-d753-d532834a5ce0"
   },
   "outputs": [
    {
     "name": "stdout",
     "output_type": "stream",
     "text": [
      "(array([ 6.22019279+14.90272269j,  6.22019279-14.90272269j,\n",
      "       -3.48443388 +9.49878874j, -3.48443388 -9.49878874j,\n",
      "       -2.01124785 +0.j        ,  8.53973004 +0.j        ]), array([[ 0.4397589 -0.05839195j,  0.4397589 +0.05839195j,\n",
      "         0.01880205+0.07369621j,  0.01880205-0.07369621j,\n",
      "        -0.5855294 +0.j        ,  0.21492057+0.j        ],\n",
      "       [ 0.00403524-0.32072171j,  0.00403524+0.32072171j,\n",
      "         0.61316062+0.j        ,  0.61316062-0.j        ,\n",
      "         0.45052556+0.j        , -0.27216933+0.j        ],\n",
      "       [ 0.02333355-0.47111122j,  0.02333355+0.47111122j,\n",
      "        -0.34449578+0.22272504j, -0.34449578-0.22272504j,\n",
      "        -0.19001174+0.j        , -0.21087539+0.j        ],\n",
      "       [ 0.50277566+0.j        ,  0.50277566-0.j        ,\n",
      "         0.0073965 -0.00460599j,  0.0073965 +0.00460599j,\n",
      "         0.59650993+0.j        , -0.4525855 +0.j        ],\n",
      "       [-0.05409778-0.19424935j, -0.05409778+0.19424935j,\n",
      "         0.28109597-0.52675325j,  0.28109597+0.52675325j,\n",
      "         0.21056003+0.j        , -0.5489487 +0.j        ],\n",
      "       [ 0.24603627-0.35193317j,  0.24603627+0.35193317j,\n",
      "        -0.30560246-0.00359126j, -0.30560246+0.00359126j,\n",
      "        -0.13385795+0.j        ,  0.5736604 +0.j        ]]))\n"
     ]
    }
   ],
   "source": [
    "print(np.linalg.eig(abba))"
   ]
  },
  {
   "cell_type": "markdown",
   "metadata": {
    "colab_type": "text",
    "id": "v4b4dl6iT0SF"
   },
   "source": [
    "## 3. Matplotlib Practice\n",
    "\n",
    "Matplotlib is a commonly used visualization library. \n",
    "\n",
    "### Part 1: Generate plots\n",
    "\n",
    "1.    Generate sine (y_sin) and cosine (y_cos) data for x from 0 to 4 * pi (Use np.arange with step size 0.1)\n",
    "2.    Create a plot with both on the same chart. The sine wave should be solid, cosine dashed\n",
    "3.    Create a second plot with 2 subplots, with the first plotting the sine wave and second plotting the cosine wave"
   ]
  },
  {
   "cell_type": "code",
   "execution_count": 0,
   "metadata": {
    "colab": {},
    "colab_type": "code",
    "id": "fPHltGRbZUrH"
   },
   "outputs": [],
   "source": [
    "import matplotlib.pyplot as plt"
   ]
  },
  {
   "cell_type": "code",
   "execution_count": 0,
   "metadata": {
    "colab": {},
    "colab_type": "code",
    "id": "E1u75RssZZFF"
   },
   "outputs": [],
   "source": [
    "# complete 1\n",
    "x = np.arange(0, 4*np.pi, 0.1)\n",
    "y_sin = np.sin(x)\n",
    "y_cos = np.cos(x)"
   ]
  },
  {
   "cell_type": "code",
   "execution_count": 0,
   "metadata": {
    "colab": {
     "base_uri": "https://localhost:8080/",
     "height": 265
    },
    "colab_type": "code",
    "id": "Glsu955RZcn3",
    "outputId": "29ee9c1f-3b95-48f7-94dd-19331cf0b12a"
   },
   "outputs": [
    {
     "data": {
      "image/png": "[encoded data removed]",
      "text/plain": [
       "<Figure size 432x288 with 1 Axes>"
      ]
     },
     "metadata": {
      "tags": []
     },
     "output_type": "display_data"
    }
   ],
   "source": [
    "# complete 2\n",
    "overlayed = plt.figure()\n",
    "plt.plot(x, y_sin, \"-\")\n",
    "plt.plot(x, y_cos, \"--\")\n",
    "plt.show()"
   ]
  },
  {
   "cell_type": "code",
   "execution_count": 0,
   "metadata": {
    "colab": {
     "base_uri": "https://localhost:8080/",
     "height": 265
    },
    "colab_type": "code",
    "id": "skX-gUORZecH",
    "outputId": "bc22550a-f519-43ed-acda-b0b44a11b122"
   },
   "outputs": [
    {
     "data": {
      "image/png": "[encoded data removed]",
      "text/plain": [
       "<Figure size 432x288 with 2 Axes>"
      ]
     },
     "metadata": {
      "tags": []
     },
     "output_type": "display_data"
    }
   ],
   "source": [
    "# complete 3\n",
    "subplotted = plt.figure()\n",
    "plt.subplot(2,1,1)\n",
    "plt.plot(x, y_sin)\n",
    "plt.subplot(2,1,2)\n",
    "plt.plot(x, y_cos)\n",
    "plt.show()"
   ]
  },
  {
   "cell_type": "markdown",
   "metadata": {
    "colab_type": "text",
    "id": "DTODsVoZZiM1"
   },
   "source": [
    "### Part 2: Save Output\n",
    "\n",
    "1.    For the above plots, save each as a image file.\n",
    "\n",
    "2.    Open both files in this notebook"
   ]
  },
  {
   "cell_type": "code",
   "execution_count": 0,
   "metadata": {
    "colab": {},
    "colab_type": "code",
    "id": "g0pA27ONZ1PF"
   },
   "outputs": [],
   "source": [
    "# complete 1\n",
    "overlayed.savefig(\"overlayed.png\")\n",
    "subplotted.savefig(\"subplotted.png\")"
   ]
  },
  {
   "cell_type": "code",
   "execution_count": 0,
   "metadata": {
    "colab": {},
    "colab_type": "code",
    "id": "A2GPXmmwau4z"
   },
   "outputs": [],
   "source": [
    "from IPython.display import Image"
   ]
  },
  {
   "cell_type": "code",
   "execution_count": 0,
   "metadata": {
    "colab": {
     "base_uri": "https://localhost:8080/",
     "height": 305
    },
    "colab_type": "code",
    "id": "dpNs3HSOawKp",
    "outputId": "6899c989-aa35-4cdf-db02-90f5b1b3ae8f"
   },
   "outputs": [
    {
     "data": {
      "image/png": "[encoded data removed]",
      "text/plain": [
       "<IPython.core.display.Image object>"
      ]
     },
     "execution_count": 46,
     "metadata": {
      "tags": []
     },
     "output_type": "execute_result"
    }
   ],
   "source": [
    "# complete 2\n",
    "Image(\"overlayed.png\")"
   ]
  },
  {
   "cell_type": "code",
   "execution_count": 0,
   "metadata": {
    "colab": {
     "base_uri": "https://localhost:8080/",
     "height": 305
    },
    "colab_type": "code",
    "id": "dgln1mKC5WgU",
    "outputId": "d817b173-580f-4dd6-9532-4239b5c62859"
   },
   "outputs": [
    {
     "data": {
      "image/png": "[encoded data removed]",
      "text/plain": [
       "<IPython.core.display.Image object>"
      ]
     },
     "execution_count": 47,
     "metadata": {
      "tags": []
     },
     "output_type": "execute_result"
    }
   ],
   "source": [
    "Image(\"subplotted.png\")"
   ]
  }
 ],
 "metadata": {
  "colab": {
   "collapsed_sections": [],
   "name": "Assignment 1 - Lab.ipynb",
   "provenance": [],
   "toc_visible": true
  },
  "kernelspec": {
   "display_name": "Python 3",
   "language": "python",
   "name": "python3"
  },
  "language_info": {
   "codemirror_mode": {
    "name": "ipython",
    "version": 3
   },
   "file_extension": ".py",
   "mimetype": "text/x-python",
   "name": "python",
   "nbconvert_exporter": "python",
   "pygments_lexer": "ipython3",
   "version": "3.7.4"
  }
 },
 "nbformat": 4,
 "nbformat_minor": 1
}
