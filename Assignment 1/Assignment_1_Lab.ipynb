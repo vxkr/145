{
  "nbformat": 4,
  "nbformat_minor": 0,
  "metadata": {
    "colab": {
      "name": "Assignment 1 - Lab.ipynb",
      "provenance": [],
      "collapsed_sections": []
    },
    "kernelspec": {
      "name": "python3",
      "display_name": "Python 3"
    }
  },
  "cells": [
    {
      "cell_type": "markdown",
      "metadata": {
        "id": "aqi2gsFbkdJj",
        "colab_type": "text"
      },
      "source": [
        "# Assignment 1 - Lab Exercises\n",
        "\n",
        "## 1. Short Python Practice\n",
        "\n",
        "### Task: Create a class named Dog\n",
        "\n",
        "*   Each instance of the class should have a variable, name (should be set on creating one)\n",
        "*   The class has two main methods, action and age\n",
        "*   Action is an instance method taking in an *optional* parameter, quietly. Calling action prints \"WOOF WOOF WOOF \" if nothing is passed in, \"woof \" if quietly is passed in as True. (Use only one hardcoded string in the method)\n",
        "* Age is a class method that takes in a list of ages in human years and returns it in dog years (Use list comprehension)\n"
      ]
    },
    {
      "cell_type": "code",
      "metadata": {
        "id": "HVDg_IV_mdgl",
        "colab_type": "code",
        "colab": {}
      },
      "source": [
        "class Dog:\n",
        "\n",
        "    def __init__(self):\n",
        "        # complete the class\n",
        "        return None"
      ],
      "execution_count": 0,
      "outputs": []
    },
    {
      "cell_type": "code",
      "metadata": {
        "id": "2cFO1cCoPLGZ",
        "colab_type": "code",
        "colab": {}
      },
      "source": [
        "human_ages = [3, 4, 7, 4, 10, 6]"
      ],
      "execution_count": 0,
      "outputs": []
    },
    {
      "cell_type": "markdown",
      "metadata": {
        "id": "w4X7I9zQbF-l",
        "colab_type": "text"
      },
      "source": [
        "1.    Create an instance of this class, and print its name\n",
        "2.   Call action with both possible options for the parameter\n",
        "3.   Call age on the provided array above"
      ]
    },
    {
      "cell_type": "code",
      "metadata": {
        "id": "uMd7Ovaua7gN",
        "colab_type": "code",
        "colab": {}
      },
      "source": [
        "# complete the task above"
      ],
      "execution_count": 0,
      "outputs": []
    },
    {
      "cell_type": "markdown",
      "metadata": {
        "id": "NzvuseP2qArC",
        "colab_type": "text"
      },
      "source": [
        "## 2. Numpy Practice\n",
        "\n",
        "Numpy is a commonly used library in Python for handling data, especially helpful for handling arrays/multi-dimensional arrays. It's particularly important for helping bridge the ineffiencies of Python as a high level language with the improved performance of handling data structures in low level languages like C. \n",
        "\n",
        "### Part 1: General Numpy Array Exercises\n",
        "\n",
        "1.   Create a matrix, with shape 10 x 7, of ones\n",
        "2.   Create 10 matrices, with shape 100 x 70, of random integers from -10 to 10\n",
        "3.   Print the number of elements equal between a pair of matrices, for each possible pair in the 10 created above except for with itself (Don't compare the 1st with the 1st)\n",
        "\n"
      ]
    },
    {
      "cell_type": "code",
      "metadata": {
        "id": "gJMCdfhPoNYG",
        "colab_type": "code",
        "outputId": "a33df1cd-2ea3-4812-9b38-90eb12471694",
        "colab": {
          "base_uri": "https://localhost:8080/",
          "height": 34
        }
      },
      "source": [
        "import numpy as np\n",
        "\n",
        "# example\n",
        "die_roll = np.random.randint(1, 6)\n",
        "print(\"Rolled a \" + str(die_roll))"
      ],
      "execution_count": 0,
      "outputs": [
        {
          "output_type": "stream",
          "text": [
            "Rolled a 1\n"
          ],
          "name": "stdout"
        }
      ]
    },
    {
      "cell_type": "code",
      "metadata": {
        "id": "omQ7b9YvP4kQ",
        "colab_type": "code",
        "colab": {}
      },
      "source": [
        "#complete part 1"
      ],
      "execution_count": 0,
      "outputs": []
    },
    {
      "cell_type": "markdown",
      "metadata": {
        "id": "8SOYWaA-KJZJ",
        "colab_type": "text"
      },
      "source": [
        "### Part 2: Splicing and some Numpy Methods\n",
        "\n",
        "1.   Find the pseudoinverse of one of the above matrices (or create a new one with shape 100 x 70)\n",
        "2.   Turns out the last 40 rows and last 10 columns of data were useless. Set a new variable to the matrix used above, without the last 40 rows or 10 columns.\n",
        "3.   Find the inverse for this square matrix.\n",
        "\n",
        "Optional: You can use the same command for 1 and 3 (briefly explain why if you do)"
      ]
    },
    {
      "cell_type": "code",
      "metadata": {
        "id": "A70n_Fm3NKDq",
        "colab_type": "code",
        "colab": {}
      },
      "source": [
        "# complete part 2"
      ],
      "execution_count": 0,
      "outputs": []
    },
    {
      "cell_type": "markdown",
      "metadata": {
        "id": "MaGMzk9qQm_u",
        "colab_type": "text"
      },
      "source": [
        "### Part 3: Matrix Methods \n",
        "\n",
        "1.    Generate 2 more matrices, *a* and *b* with shape 2 x 3 and 4 x 3.\n",
        "2.    Create 2 matrices, *a_on_b* and *b_on_a* - for the first, stack a on top of b, and the opposite for the second. The join them to create *abba*, with *b_on_a* to the right of *a_on_b*\n",
        "3.    Print the right eigenvalues and eigenvectors for *abba*"
      ]
    },
    {
      "cell_type": "code",
      "metadata": {
        "id": "4ji2mGwuTb_L",
        "colab_type": "code",
        "colab": {}
      },
      "source": [
        "# complete part 3"
      ],
      "execution_count": 0,
      "outputs": []
    },
    {
      "cell_type": "markdown",
      "metadata": {
        "id": "v4b4dl6iT0SF",
        "colab_type": "text"
      },
      "source": [
        "## 3. Matplotlib Practice\n",
        "\n",
        "Matplotlib is a commonly used visualization library. \n",
        "\n",
        "### Part 1: Generate plots\n",
        "\n",
        "1.    Generate sine (y_sin) and cosine (y_cos) data for x from 0 to 4 * pi (Use np.arange with step size 0.1)\n",
        "2.    Create a plot with both on the same chart. The sine wave should be solid, cosine dashed\n",
        "3.    Create a second plot with 2 subplots, with the first plotting the sine wave and second plotting the cosine wave"
      ]
    },
    {
      "cell_type": "code",
      "metadata": {
        "id": "fPHltGRbZUrH",
        "colab_type": "code",
        "colab": {}
      },
      "source": [
        "import matplotlib.pyplot as plt"
      ],
      "execution_count": 0,
      "outputs": []
    },
    {
      "cell_type": "code",
      "metadata": {
        "id": "E1u75RssZZFF",
        "colab_type": "code",
        "colab": {}
      },
      "source": [
        "# complete 1"
      ],
      "execution_count": 0,
      "outputs": []
    },
    {
      "cell_type": "code",
      "metadata": {
        "id": "Glsu955RZcn3",
        "colab_type": "code",
        "colab": {}
      },
      "source": [
        "# complete 2"
      ],
      "execution_count": 0,
      "outputs": []
    },
    {
      "cell_type": "code",
      "metadata": {
        "id": "skX-gUORZecH",
        "colab_type": "code",
        "colab": {}
      },
      "source": [
        "# complete 3"
      ],
      "execution_count": 0,
      "outputs": []
    },
    {
      "cell_type": "markdown",
      "metadata": {
        "id": "DTODsVoZZiM1",
        "colab_type": "text"
      },
      "source": [
        "### Part 2: Save Output\n",
        "\n",
        "1.    For the above plots, save each as a image file.\n",
        "(Hint: Go back and create variables for each at the start with *var = plt.figure()* )\n",
        "\n",
        "2.    Open both files in this notebook"
      ]
    },
    {
      "cell_type": "code",
      "metadata": {
        "id": "g0pA27ONZ1PF",
        "colab_type": "code",
        "colab": {}
      },
      "source": [
        "# complete 1"
      ],
      "execution_count": 0,
      "outputs": []
    },
    {
      "cell_type": "code",
      "metadata": {
        "id": "A2GPXmmwau4z",
        "colab_type": "code",
        "colab": {}
      },
      "source": [
        "from IPython.display import Image"
      ],
      "execution_count": 0,
      "outputs": []
    },
    {
      "cell_type": "code",
      "metadata": {
        "id": "dpNs3HSOawKp",
        "colab_type": "code",
        "colab": {}
      },
      "source": [
        "# complete 2"
      ],
      "execution_count": 0,
      "outputs": []
    }
  ]
}